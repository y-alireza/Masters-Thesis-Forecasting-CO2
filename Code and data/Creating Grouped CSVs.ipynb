{
 "cells": [
  {
   "cell_type": "code",
   "execution_count": 1,
   "metadata": {},
   "outputs": [],
   "source": [
    "import pandas as pd\n"
   ]
  },
  {
   "cell_type": "markdown",
   "metadata": {},
   "source": [
    "# Creating Grouped CSVs for September (including motion)"
   ]
  },
  {
   "cell_type": "code",
   "execution_count": 2,
   "metadata": {},
   "outputs": [],
   "source": [
    "#Note zip needs to be unzipped and place accordingly\n",
    "#Load CSV Files\n",
    "data = pd.read_csv('data/RawComfortData.typed.csv')\n",
    "data_motion = pd.read_csv('data/RawMotionData.typed.csv')\n",
    "\n",
    "#Create a DateTime format\n",
    "data['DateTime'] = pd.to_datetime(data['Timestamp'])\n",
    "data_motion['DateTime'] = pd.to_datetime(data_motion['Timestamp'])\n",
    "\n",
    "data = data.sort_values(['DateTime'])\n",
    "data_motion = data_motion.sort_values(['DateTime'])\n",
    "\n",
    "#Get individual room names\n",
    "rooms = data['SpaceName'].unique()\n",
    "\n"
   ]
  },
  {
   "cell_type": "code",
   "execution_count": 3,
   "metadata": {},
   "outputs": [],
   "source": [
    "#Get entries from Sept 01 and join motion with other sensor data\n",
    "data = data[(data['DateTime'] >= '2019-09-01')]\n",
    "data_motion = data_motion[(data_motion['DateTime'] >= '2019-09-01')]\n",
    "data_merged = pd.concat([data,data_motion])"
   ]
  },
  {
   "cell_type": "code",
   "execution_count": 4,
   "metadata": {},
   "outputs": [
    {
     "name": "stdout",
     "output_type": "stream",
     "text": [
      "MDB 003 Kapel 1\n",
      "MDB 009 Instructiezaal 01\n",
      "MDB 108 Invliegende staf\n",
      "MDB 302 Collegezaal achterzijde\n",
      "MDB 010 Instructiezaal 02 raamzijde (docent)\n",
      "MDB 209 Instructiezaal 07\n",
      "MDB 109 Instructiezaal 03\n",
      "MDB 115 Instructiezaal 05\n",
      "MDB 110 instructiezaal 04 gangzijde (docent)\n",
      "MDB 302 Collegezaal voorzijde (docent)\n"
     ]
    }
   ],
   "source": [
    "for room in rooms:\n",
    "    print(room)\n",
    "    room_data = data_merged[data_merged['SpaceName']==room].sort_values(['DateTime'])\n",
    "    #Group events that occurred recently together. Grouping by eventtimestamp could group incorrectly\n",
    "    room_data['group'] = (room_data['DateTime'].diff() > pd.Timedelta(seconds=240)).cumsum() #\n",
    "    room_data = room_data.reset_index().pivot_table(index='group', columns='DataType', values='Value')\n",
    "    #Insert 0 or 1 based on whether there has been a change in motion\n",
    "    room_data.loc[(room_data['Motion'] != 0)&(room_data['Motion'].notnull()), 'Motion'] = 1\n",
    "    room_data['Motion'] = room_data['Motion'].fillna(method='ffill')\n",
    "    room_data['Motion']= room_data['Motion'].fillna(0)\n",
    "    #To save:\n",
    "#     room_data.to_csv('data/rooms_motion_from09/{}.csv'.format(room), index=False)\n"
   ]
  },
  {
   "cell_type": "code",
   "execution_count": 5,
   "metadata": {},
   "outputs": [
    {
     "data": {
      "text/html": [
       "<div>\n",
       "<style scoped>\n",
       "    .dataframe tbody tr th:only-of-type {\n",
       "        vertical-align: middle;\n",
       "    }\n",
       "\n",
       "    .dataframe tbody tr th {\n",
       "        vertical-align: top;\n",
       "    }\n",
       "\n",
       "    .dataframe thead th {\n",
       "        text-align: right;\n",
       "    }\n",
       "</style>\n",
       "<table border=\"1\" class=\"dataframe\">\n",
       "  <thead>\n",
       "    <tr style=\"text-align: right;\">\n",
       "      <th>DataType</th>\n",
       "      <th>CarbonDioxide</th>\n",
       "      <th>Humidity</th>\n",
       "      <th>Light</th>\n",
       "      <th>Motion</th>\n",
       "      <th>Sound</th>\n",
       "      <th>Temperature</th>\n",
       "    </tr>\n",
       "    <tr>\n",
       "      <th>group</th>\n",
       "      <th></th>\n",
       "      <th></th>\n",
       "      <th></th>\n",
       "      <th></th>\n",
       "      <th></th>\n",
       "      <th></th>\n",
       "    </tr>\n",
       "  </thead>\n",
       "  <tbody>\n",
       "    <tr>\n",
       "      <td>0</td>\n",
       "      <td>382.0</td>\n",
       "      <td>63.0</td>\n",
       "      <td>0.0</td>\n",
       "      <td>0.0</td>\n",
       "      <td>8.0</td>\n",
       "      <td>22.1</td>\n",
       "    </tr>\n",
       "    <tr>\n",
       "      <td>1</td>\n",
       "      <td>383.0</td>\n",
       "      <td>63.0</td>\n",
       "      <td>0.0</td>\n",
       "      <td>0.0</td>\n",
       "      <td>8.0</td>\n",
       "      <td>22.1</td>\n",
       "    </tr>\n",
       "    <tr>\n",
       "      <td>2</td>\n",
       "      <td>384.0</td>\n",
       "      <td>64.0</td>\n",
       "      <td>0.0</td>\n",
       "      <td>0.0</td>\n",
       "      <td>8.0</td>\n",
       "      <td>22.1</td>\n",
       "    </tr>\n",
       "    <tr>\n",
       "      <td>3</td>\n",
       "      <td>384.0</td>\n",
       "      <td>64.0</td>\n",
       "      <td>0.0</td>\n",
       "      <td>0.0</td>\n",
       "      <td>8.0</td>\n",
       "      <td>22.1</td>\n",
       "    </tr>\n",
       "    <tr>\n",
       "      <td>4</td>\n",
       "      <td>386.0</td>\n",
       "      <td>64.0</td>\n",
       "      <td>0.0</td>\n",
       "      <td>0.0</td>\n",
       "      <td>9.0</td>\n",
       "      <td>22.1</td>\n",
       "    </tr>\n",
       "  </tbody>\n",
       "</table>\n",
       "</div>"
      ],
      "text/plain": [
       "DataType  CarbonDioxide  Humidity  Light  Motion  Sound  Temperature\n",
       "group                                                               \n",
       "0                 382.0      63.0    0.0     0.0    8.0         22.1\n",
       "1                 383.0      63.0    0.0     0.0    8.0         22.1\n",
       "2                 384.0      64.0    0.0     0.0    8.0         22.1\n",
       "3                 384.0      64.0    0.0     0.0    8.0         22.1\n",
       "4                 386.0      64.0    0.0     0.0    9.0         22.1"
      ]
     },
     "execution_count": 5,
     "metadata": {},
     "output_type": "execute_result"
    }
   ],
   "source": [
    "#Room 302\n",
    "room_data.head()"
   ]
  },
  {
   "cell_type": "code",
   "execution_count": null,
   "metadata": {},
   "outputs": [],
   "source": []
  }
 ],
 "metadata": {
  "kernelspec": {
   "display_name": "Python 3",
   "language": "python",
   "name": "python3"
  },
  "language_info": {
   "codemirror_mode": {
    "name": "ipython",
    "version": 3
   },
   "file_extension": ".py",
   "mimetype": "text/x-python",
   "name": "python",
   "nbconvert_exporter": "python",
   "pygments_lexer": "ipython3",
   "version": "3.7.4"
  }
 },
 "nbformat": 4,
 "nbformat_minor": 2
}
